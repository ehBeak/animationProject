{
  "nbformat": 4,
  "nbformat_minor": 0,
  "metadata": {
    "colab": {
      "name": "BackgroundMatting.ipynb",
      "provenance": [],
      "authorship_tag": "ABX9TyP4OpkRhXN6jAH6KhW1zeu1",
      "include_colab_link": true
    },
    "kernelspec": {
      "name": "python3",
      "display_name": "Python 3"
    },
    "language_info": {
      "name": "python"
    },
    "accelerator": "GPU"
  },
  "cells": [
    {
      "cell_type": "markdown",
      "metadata": {
        "id": "view-in-github",
        "colab_type": "text"
      },
      "source": [
        "<a href=\"https://colab.research.google.com/github/ehBeak/animationProject/blob/main/BackgroundMatting.ipynb\" target=\"_parent\"><img src=\"https://colab.research.google.com/assets/colab-badge.svg\" alt=\"Open In Colab\"/></a>"
      ]
    },
    {
      "cell_type": "code",
      "metadata": {
        "id": "CntlwzErodsV"
      },
      "source": [
        "import cv2 as cv\n",
        "import os"
      ],
      "execution_count": null,
      "outputs": []
    },
    {
      "cell_type": "code",
      "metadata": {
        "id": "1T4elcXSjc91"
      },
      "source": [
        "!gdown https://drive.google.com/uc?id=1ErIAsB_miVhYL9GDlYUmfbqlV293mSYf -O model.pth -q"
      ],
      "execution_count": null,
      "outputs": []
    },
    {
      "cell_type": "code",
      "metadata": {
        "id": "XS62YrLakkHS"
      },
      "source": [
        "!git clone -q https://github.com/PeterL1n/BackgroundMattingV2\n"
      ],
      "execution_count": null,
      "outputs": []
    },
    {
      "cell_type": "code",
      "metadata": {
        "colab": {
          "base_uri": "https://localhost:8080/",
          "height": 53
        },
        "id": "QtoKTUsLq1aV",
        "outputId": "edcedaa1-3ec1-454b-9990-7bc02e03b69a"
      },
      "source": [
        "%cd /content\n",
        "os.getcwd()"
      ],
      "execution_count": null,
      "outputs": [
        {
          "output_type": "stream",
          "name": "stdout",
          "text": [
            "/content\n"
          ]
        },
        {
          "output_type": "execute_result",
          "data": {
            "application/vnd.google.colaboratory.intrinsic+json": {
              "type": "string"
            },
            "text/plain": [
              "'/content'"
            ]
          },
          "metadata": {},
          "execution_count": 4
        }
      ]
    },
    {
      "cell_type": "code",
      "metadata": {
        "id": "WLfr-HuenHJ3"
      },
      "source": [
        "vidcap = cv.VideoCapture('src.mp4')\n",
        "\n",
        "if(vidcap.isOpened()): \n",
        "  ret, image = vidcap.read()\n",
        "  cv.imwrite(\"./test.png\",image)\n"
      ],
      "execution_count": null,
      "outputs": []
    },
    {
      "cell_type": "code",
      "metadata": {
        "colab": {
          "base_uri": "https://localhost:8080/"
        },
        "id": "5DmWNMkbrazx",
        "outputId": "554137dd-56ad-4d8d-81ab-73f47c965aeb"
      },
      "source": [
        "os.getcwd()\n",
        "%cd BackgroundMattingV2"
      ],
      "execution_count": null,
      "outputs": [
        {
          "output_type": "stream",
          "name": "stdout",
          "text": [
            "/content/BackgroundMattingV2\n"
          ]
        }
      ]
    },
    {
      "cell_type": "code",
      "metadata": {
        "colab": {
          "base_uri": "https://localhost:8080/"
        },
        "id": "1adsCQqtkpE7",
        "outputId": "98ff3447-f0a0-4830-88b8-1c18faf0bfbc"
      },
      "source": [
        "!python inference_video.py \\\n",
        "        --model-type mattingrefine \\\n",
        "        --model-backbone resnet50 \\\n",
        "        --model-backbone-scale 0.25 \\\n",
        "        --model-refine-mode sampling \\\n",
        "        --model-refine-sample-pixels 80000 \\\n",
        "        --model-checkpoint \"/content/model.pth\" \\\n",
        "        --video-src \"/content/src.mp4\" \\\n",
        "        --video-bgr \"/content/test.png\" \\\n",
        "        --output-dir \"/content/output/\" \\\n",
        "        --output-type com fgr pha err ref"
      ],
      "execution_count": null,
      "outputs": [
        {
          "output_type": "stream",
          "name": "stdout",
          "text": [
            "  0% 0/274 [00:00<?, ?it/s]/usr/local/lib/python3.7/dist-packages/torch/nn/functional.py:718: UserWarning: Named tensors and all their associated APIs are an experimental feature and subject to change. Please do not use them for anything important until they are released as stable. (Triggered internally at  /pytorch/c10/core/TensorImpl.h:1156.)\n",
            "  return torch.max_pool2d(input, kernel_size, stride, padding, dilation, ceil_mode)\n",
            "100% 273/274 [00:46<00:00,  5.86it/s]\n",
            "Traceback (most recent call last):\n",
            "  File \"inference_video.py\", line 182, in <module>\n",
            "    for input_batch in tqdm(DataLoader(dataset, batch_size=1, pin_memory=True)):\n",
            "  File \"/usr/local/lib/python3.7/dist-packages/tqdm/std.py\", line 1185, in __iter__\n",
            "    for obj in iterable:\n",
            "  File \"/usr/local/lib/python3.7/dist-packages/torch/utils/data/dataloader.py\", line 521, in __next__\n",
            "    data = self._next_data()\n",
            "  File \"/usr/local/lib/python3.7/dist-packages/torch/utils/data/dataloader.py\", line 561, in _next_data\n",
            "    data = self._dataset_fetcher.fetch(index)  # may raise StopIteration\n",
            "  File \"/usr/local/lib/python3.7/dist-packages/torch/utils/data/_utils/fetch.py\", line 44, in fetch\n",
            "    data = [self.dataset[idx] for idx in possibly_batched_index]\n",
            "  File \"/usr/local/lib/python3.7/dist-packages/torch/utils/data/_utils/fetch.py\", line 44, in <listcomp>\n",
            "    data = [self.dataset[idx] for idx in possibly_batched_index]\n",
            "  File \"/content/BackgroundMattingV2/dataset/zip.py\", line 17, in __getitem__\n",
            "    x = tuple(d[idx % len(d)] for d in self.datasets)\n",
            "  File \"/content/BackgroundMattingV2/dataset/zip.py\", line 17, in <genexpr>\n",
            "    x = tuple(d[idx % len(d)] for d in self.datasets)\n",
            "  File \"/content/BackgroundMattingV2/dataset/video.py\", line 27, in __getitem__\n",
            "    raise IndexError(f'Idx: {idx} out of length: {len(self)}')\n",
            "IndexError: Idx: 273 out of length: 274\n"
          ]
        }
      ]
    },
    {
      "cell_type": "code",
      "metadata": {
        "colab": {
          "base_uri": "https://localhost:8080/"
        },
        "id": "yj2V7Lg4uHK3",
        "outputId": "5ae6f0fb-1ba3-4175-f668-840a1658c8e8"
      },
      "source": [
        "os.getcwd()\n",
        "%cd ../output"
      ],
      "execution_count": null,
      "outputs": [
        {
          "output_type": "stream",
          "name": "stdout",
          "text": [
            "/content/output\n"
          ]
        }
      ]
    }
  ]
}