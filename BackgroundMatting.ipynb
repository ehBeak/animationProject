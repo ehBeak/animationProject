{
  "nbformat": 4,
  "nbformat_minor": 0,
  "metadata": {
    "colab": {
      "name": "BackgroundMatting.ipynb",
      "provenance": [],
      "collapsed_sections": [],
      "authorship_tag": "ABX9TyMOwWIPZlFcX8ifA5rxjYLu",
      "include_colab_link": true
    },
    "kernelspec": {
      "name": "python3",
      "display_name": "Python 3"
    },
    "language_info": {
      "name": "python"
    },
    "accelerator": "GPU"
  },
  "cells": [
    {
      "cell_type": "markdown",
      "metadata": {
        "id": "view-in-github",
        "colab_type": "text"
      },
      "source": [
        "<a href=\"https://colab.research.google.com/github/ehBeak/animationProject/blob/main/BackgroundMatting.ipynb\" target=\"_parent\"><img src=\"https://colab.research.google.com/assets/colab-badge.svg\" alt=\"Open In Colab\"/></a>"
      ]
    },
    {
      "cell_type": "code",
      "metadata": {
        "id": "CntlwzErodsV"
      },
      "source": [
        "import cv2 as cv\n",
        "import os"
      ],
      "execution_count": null,
      "outputs": []
    },
    {
      "cell_type": "markdown",
      "metadata": {
        "id": "Qc4tmBB6pDKn"
      },
      "source": [
        "모델 다운"
      ]
    },
    {
      "cell_type": "code",
      "metadata": {
        "id": "1T4elcXSjc91"
      },
      "source": [
        "!gdown https://drive.google.com/uc?id=1ErIAsB_miVhYL9GDlYUmfbqlV293mSYf -O model.pth -q"
      ],
      "execution_count": null,
      "outputs": []
    },
    {
      "cell_type": "markdown",
      "metadata": {
        "id": "mBb9jdwTqxvI"
      },
      "source": [
        "모델 실행 코드 클론"
      ]
    },
    {
      "cell_type": "code",
      "metadata": {
        "id": "XS62YrLakkHS"
      },
      "source": [
        "!git clone -q https://github.com/PeterL1n/BackgroundMattingV2\n"
      ],
      "execution_count": null,
      "outputs": []
    },
    {
      "cell_type": "markdown",
      "metadata": {
        "id": "Y9jMwQWUpLMe"
      },
      "source": [
        "content 이동"
      ]
    },
    {
      "cell_type": "code",
      "metadata": {
        "colab": {
          "base_uri": "https://localhost:8080/",
          "height": 53
        },
        "id": "QtoKTUsLq1aV",
        "outputId": "11631df5-532a-4124-de8a-b423ff235d94"
      },
      "source": [
        "%cd /content\n",
        "os.getcwd()"
      ],
      "execution_count": null,
      "outputs": [
        {
          "output_type": "stream",
          "name": "stdout",
          "text": [
            "/content\n"
          ]
        },
        {
          "output_type": "execute_result",
          "data": {
            "application/vnd.google.colaboratory.intrinsic+json": {
              "type": "string"
            },
            "text/plain": [
              "'/content'"
            ]
          },
          "metadata": {},
          "execution_count": 13
        }
      ]
    },
    {
      "cell_type": "markdown",
      "metadata": {
        "id": "fyNekSG6pQKA"
      },
      "source": [
        "input 비디오의 첫 프레임 잘라서 content에 test.png로 저장"
      ]
    },
    {
      "cell_type": "code",
      "metadata": {
        "id": "WLfr-HuenHJ3"
      },
      "source": [
        "vidcap = cv.VideoCapture('src.mp4')\n",
        "\n",
        "if(vidcap.isOpened()): \n",
        "  ret, image = vidcap.read()\n",
        "  cv.imwrite(\"./test.png\",image)\n"
      ],
      "execution_count": null,
      "outputs": []
    },
    {
      "cell_type": "markdown",
      "metadata": {
        "id": "W2UrB8e0pY_j"
      },
      "source": [
        "BackgroundMattingV2 파일로 이동"
      ]
    },
    {
      "cell_type": "code",
      "metadata": {
        "colab": {
          "base_uri": "https://localhost:8080/"
        },
        "id": "5DmWNMkbrazx",
        "outputId": "f3a69cbd-9a18-41b4-8f8e-ac6aa900d837"
      },
      "source": [
        "os.getcwd()\n",
        "%cd BackgroundMattingV2"
      ],
      "execution_count": null,
      "outputs": [
        {
          "output_type": "stream",
          "name": "stdout",
          "text": [
            "/content/BackgroundMattingV2\n"
          ]
        }
      ]
    },
    {
      "cell_type": "markdown",
      "metadata": {
        "id": "LnmA85UarGx5"
      },
      "source": [
        "학습된 모델 실행, 결과값은 ouput에"
      ]
    },
    {
      "cell_type": "code",
      "metadata": {
        "colab": {
          "base_uri": "https://localhost:8080/"
        },
        "id": "1adsCQqtkpE7",
        "outputId": "04f97b4a-acda-4054-c288-820de8971bba"
      },
      "source": [
        "!python inference_video.py \\\n",
        "        --model-type mattingrefine \\\n",
        "        --model-backbone resnet50 \\\n",
        "        --model-backbone-scale 0.25 \\\n",
        "        --model-refine-mode sampling \\\n",
        "        --model-refine-sample-pixels 80000 \\\n",
        "        --model-checkpoint \"/content/model.pth\" \\\n",
        "        --video-src \"/content/src.mp4\" \\\n",
        "        --video-bgr \"/content/test.png\" \\\n",
        "        --output-dir \"/content/output/\" \\\n",
        "        --output-type com fgr pha err ref"
      ],
      "execution_count": null,
      "outputs": [
        {
          "output_type": "stream",
          "name": "stdout",
          "text": [
            "Directory /content/output/ already exists. Override? [Y/N]: Y\n",
            "  0% 0/274 [00:00<?, ?it/s]\n",
            "Traceback (most recent call last):\n",
            "  File \"inference_video.py\", line 195, in <module>\n",
            "    pha, fgr, _, _, err, ref = model(src, bgr)\n",
            "  File \"/usr/local/lib/python3.7/dist-packages/torch/nn/modules/module.py\", line 1051, in _call_impl\n",
            "    return forward_call(*input, **kwargs)\n",
            "  File \"/content/drive/My Drive/test/BackgroundMattingV2/model/model.py\", line 162, in forward\n",
            "    assert src.size() == bgr.size(), 'src and bgr must have the same shape'\n",
            "AssertionError: src and bgr must have the same shape\n"
          ]
        }
      ]
    },
    {
      "cell_type": "markdown",
      "metadata": {
        "id": "B9wdYOYRpjsv"
      },
      "source": [
        "ouput으로 이동"
      ]
    },
    {
      "cell_type": "code",
      "metadata": {
        "colab": {
          "base_uri": "https://localhost:8080/"
        },
        "id": "yj2V7Lg4uHK3",
        "outputId": "6ece8d27-a5ed-41e1-94ec-592a18ced7c4"
      },
      "source": [
        "os.getcwd()\n",
        "%cd /content/output"
      ],
      "execution_count": null,
      "outputs": [
        {
          "output_type": "stream",
          "name": "stdout",
          "text": [
            "/content/output\n"
          ]
        }
      ]
    },
    {
      "cell_type": "code",
      "metadata": {
        "id": "MgV3PXqlDpzo"
      },
      "source": [
        ""
      ],
      "execution_count": null,
      "outputs": []
    },
    {
      "cell_type": "markdown",
      "metadata": {
        "id": "DSyYCplKqJCq"
      },
      "source": [
        "초록 부분 배경 제거"
      ]
    },
    {
      "cell_type": "code",
      "metadata": {
        "id": "ZDlUmWHLqMcs"
      },
      "source": [
        "# read the image\n",
        "image_bgr = cv.imread('image_bgr.png')\n",
        "# get the image dimensions (height, width and channels)\n",
        "h, w, c = image_bgr.shape\n",
        "# append Alpha channel -- required for BGRA (Blue, Green, Red, Alpha)\n",
        "image_bgra = np.concatenate([image_bgr, np.full((h, w, 1), 255, dtype=np.uint8)], axis=-1)\n",
        "# create a mask where white pixels ([255, 255, 255]) are True\n",
        "green = np.all(image_bgr == [120, 255, 155], axis=-1)\n",
        "# change the values of Alpha to 0 for all the white pixels\n",
        "image_bgra[green, -1] = 0\n",
        "# save the image\n",
        "cv2.imwrite('image_bgra.png', image_bgra)"
      ],
      "execution_count": null,
      "outputs": []
    },
    {
      "cell_type": "markdown",
      "metadata": {
        "id": "0DBbiH1Fp4JI"
      },
      "source": [
        "프레임 단위로 잘라서 저장"
      ]
    },
    {
      "cell_type": "code",
      "metadata": {
        "id": "d9RYX-9Mp7Ky"
      },
      "source": [
        "vidcap = cv.VideoCapture('com.mp4')\n",
        "success,image_bgr = vidcap.read()\n",
        "\n",
        "count = 1\n",
        "success = True\n",
        "\n",
        "while success:\n",
        "  success,image_bgr = vidcap.read()\n",
        "  h, w, c = image_bgr.shape\n",
        "  image_bgra = np.concatenate([image_bgr, np.full((h, w, 1), 255, dtype=np.uint8)], axis=-1)\n",
        "  image_bgra[green, -1] = 0\n",
        "  green = np.all(image_bgr == [155, 255, 120], axis=-1)\n",
        "  cv.imwrite(\"/Your/img/save/path/%d.jpg\" % count, image)\n",
        "  print(\"saved image %d.jpg\" % count)\n",
        "  \n",
        "  if cv.waitKey(10) == 27:                    \n",
        "      break\n",
        "  count += 1"
      ],
      "execution_count": null,
      "outputs": []
    }
  ]
}